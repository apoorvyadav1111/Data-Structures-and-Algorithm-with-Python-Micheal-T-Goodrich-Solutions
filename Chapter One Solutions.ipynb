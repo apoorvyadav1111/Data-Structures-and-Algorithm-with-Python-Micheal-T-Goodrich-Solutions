{
 "cells": [
  {
   "cell_type": "markdown",
   "metadata": {},
   "source": [
    "Question R1.1"
   ]
  },
  {
   "cell_type": "code",
   "execution_count": 1,
   "metadata": {},
   "outputs": [
    {
     "data": {
      "text/plain": [
       "True"
      ]
     },
     "execution_count": 1,
     "metadata": {},
     "output_type": "execute_result"
    }
   ],
   "source": [
    "def is_multiple(n,m):\n",
    "    if n%m==0:\n",
    "        return True\n",
    "    else:\n",
    "        return False\n",
    "is_multiple(4,2)"
   ]
  },
  {
   "cell_type": "markdown",
   "metadata": {},
   "source": [
    "Question R1.2"
   ]
  },
  {
   "cell_type": "code",
   "execution_count": 2,
   "metadata": {},
   "outputs": [
    {
     "data": {
      "text/plain": [
       "True"
      ]
     },
     "execution_count": 2,
     "metadata": {},
     "output_type": "execute_result"
    }
   ],
   "source": [
    "def is_even(k):\n",
    "    if k%2==0:\n",
    "        return True\n",
    "    else:\n",
    "        return False\n",
    "is_even(4)"
   ]
  },
  {
   "cell_type": "code",
   "execution_count": 3,
   "metadata": {},
   "outputs": [
    {
     "name": "stdout",
     "output_type": "stream",
     "text": [
      "18446744073709551615\n"
     ]
    },
    {
     "data": {
      "text/plain": [
       "(546, -1)"
      ]
     },
     "execution_count": 3,
     "metadata": {},
     "output_type": "execute_result"
    }
   ],
   "source": [
    "def minmax(data):\n",
    "    maxd=0\n",
    "    mind=int(str(1)*64,base=2)\n",
    "    print (mind)\n",
    "    for i in data:\n",
    "        if i>maxd:\n",
    "            maxd=i\n",
    "        if i<mind:\n",
    "            mind=i\n",
    "    return (maxd,mind)\n",
    "minmax([2,3,546,73,4,4,-1])"
   ]
  },
  {
   "cell_type": "markdown",
   "metadata": {},
   "source": [
    "Que R 1.4"
   ]
  },
  {
   "cell_type": "code",
   "execution_count": 4,
   "metadata": {},
   "outputs": [
    {
     "data": {
      "text/plain": [
       "14.0"
      ]
     },
     "execution_count": 4,
     "metadata": {},
     "output_type": "execute_result"
    }
   ],
   "source": [
    "def squares(n):\n",
    "    if n>0:\n",
    "        ss=n*(n+1)*(2*n+1)/6\n",
    "        return ss\n",
    "    return False\n",
    "squares(3)"
   ]
  },
  {
   "cell_type": "markdown",
   "metadata": {},
   "source": [
    "Que R1.5\n"
   ]
  },
  {
   "cell_type": "code",
   "execution_count": 5,
   "metadata": {},
   "outputs": [
    {
     "data": {
      "text/plain": [
       "14"
      ]
     },
     "execution_count": 5,
     "metadata": {},
     "output_type": "execute_result"
    }
   ],
   "source": [
    "def ComprehensionSquare(n):\n",
    "    sq=sum([i*i for i in range(1,n+1)])\n",
    "    return sq\n",
    "ComprehensionSquare(3)"
   ]
  },
  {
   "cell_type": "markdown",
   "metadata": {},
   "source": [
    "Que R 1.6\n"
   ]
  },
  {
   "cell_type": "code",
   "execution_count": 6,
   "metadata": {},
   "outputs": [
    {
     "data": {
      "text/plain": [
       "35"
      ]
     },
     "execution_count": 6,
     "metadata": {},
     "output_type": "execute_result"
    }
   ],
   "source": [
    "def sumodd(n):\n",
    "    sq=0\n",
    "    for i in range(n):\n",
    "        if i%2==1:\n",
    "            sq+=i*i\n",
    "    return sq\n",
    "sumodd(6)"
   ]
  },
  {
   "cell_type": "markdown",
   "metadata": {},
   "source": [
    "Que R1.7"
   ]
  },
  {
   "cell_type": "code",
   "execution_count": 7,
   "metadata": {},
   "outputs": [
    {
     "data": {
      "text/plain": [
       "35"
      ]
     },
     "execution_count": 7,
     "metadata": {},
     "output_type": "execute_result"
    }
   ],
   "source": [
    "def ComOddSq(n):\n",
    "        sq=sum([i*i for i in range(1,n,2)])\n",
    "        return sq\n",
    "ComOddSq(6)"
   ]
  },
  {
   "cell_type": "markdown",
   "metadata": {},
   "source": [
    "Que R 1.8"
   ]
  },
  {
   "cell_type": "code",
   "execution_count": 8,
   "metadata": {},
   "outputs": [
    {
     "name": "stdout",
     "output_type": "stream",
     "text": [
      " 4 4\n"
     ]
    }
   ],
   "source": [
    "s=[1,2,3,4,5]\n",
    "print (\"\"\"\"\"\",s[-2]\n",
    ",s[5-2])"
   ]
  },
  {
   "cell_type": "markdown",
   "metadata": {},
   "source": [
    "Que R1.9"
   ]
  },
  {
   "cell_type": "code",
   "execution_count": 9,
   "metadata": {},
   "outputs": [],
   "source": [
    "val=[i for i in range(50,90,10)]"
   ]
  },
  {
   "cell_type": "markdown",
   "metadata": {},
   "source": [
    "Que R 1.10"
   ]
  },
  {
   "cell_type": "code",
   "execution_count": 10,
   "metadata": {},
   "outputs": [
    {
     "data": {
      "text/plain": [
       "[8, 6, 4, 2, 0, -2, -4, -6, -8]"
      ]
     },
     "execution_count": 10,
     "metadata": {},
     "output_type": "execute_result"
    }
   ],
   "source": [
    "val=[i for i in range(8,-9,-2)]\n",
    "val"
   ]
  },
  {
   "cell_type": "markdown",
   "metadata": {},
   "source": [
    "Que R 1.12\n"
   ]
  },
  {
   "cell_type": "code",
   "execution_count": 143,
   "metadata": {},
   "outputs": [
    {
     "data": {
      "text/plain": [
       "88606"
      ]
     },
     "execution_count": 143,
     "metadata": {},
     "output_type": "execute_result"
    }
   ],
   "source": [
    "import random\n",
    "import string\n",
    "randomval=random.randrange(1,100000)\n",
    "randomval"
   ]
  },
  {
   "cell_type": "code",
   "execution_count": 12,
   "metadata": {},
   "outputs": [
    {
     "data": {
      "text/plain": [
       "4"
      ]
     },
     "execution_count": 12,
     "metadata": {},
     "output_type": "execute_result"
    }
   ],
   "source": [
    "random.choice(val)"
   ]
  },
  {
   "cell_type": "markdown",
   "metadata": {},
   "source": [
    "Que C1.13"
   ]
  },
  {
   "cell_type": "code",
   "execution_count": 13,
   "metadata": {},
   "outputs": [
    {
     "name": "stdout",
     "output_type": "stream",
     "text": [
      "<list_reverseiterator object at 0x7f4de0b2dc88>\n"
     ]
    }
   ],
   "source": [
    "print(reversed(val))"
   ]
  },
  {
   "cell_type": "code",
   "execution_count": 14,
   "metadata": {},
   "outputs": [],
   "source": [
    "rev=[]\n",
    "for i in range(len(val)):\n",
    "    rev.append(val.pop())"
   ]
  },
  {
   "cell_type": "code",
   "execution_count": 15,
   "metadata": {},
   "outputs": [
    {
     "data": {
      "text/plain": [
       "[-8, -6, -4, -2, 0, 2, 4, 6, 8]"
      ]
     },
     "execution_count": 15,
     "metadata": {},
     "output_type": "execute_result"
    }
   ],
   "source": [
    "rev"
   ]
  },
  {
   "cell_type": "code",
   "execution_count": 16,
   "metadata": {},
   "outputs": [],
   "source": [
    "val.reverse()"
   ]
  },
  {
   "cell_type": "code",
   "execution_count": 17,
   "metadata": {},
   "outputs": [
    {
     "data": {
      "text/plain": [
       "[]"
      ]
     },
     "execution_count": 17,
     "metadata": {},
     "output_type": "execute_result"
    }
   ],
   "source": [
    "val"
   ]
  },
  {
   "cell_type": "markdown",
   "metadata": {},
   "source": [
    "Que c1.14"
   ]
  },
  {
   "cell_type": "code",
   "execution_count": 18,
   "metadata": {},
   "outputs": [
    {
     "data": {
      "text/plain": [
       "True"
      ]
     },
     "execution_count": 18,
     "metadata": {},
     "output_type": "execute_result"
    }
   ],
   "source": [
    "def oddseq(data):\n",
    "    c=0\n",
    "    for i in data:\n",
    "        if i%2==1:\n",
    "            c+=1\n",
    "    return True if c>1 else False\n",
    "oddseq([1,2,3])"
   ]
  },
  {
   "cell_type": "markdown",
   "metadata": {},
   "source": [
    "Que C1.15"
   ]
  },
  {
   "cell_type": "code",
   "execution_count": 19,
   "metadata": {},
   "outputs": [
    {
     "name": "stdout",
     "output_type": "stream",
     "text": [
      "{1, 2, 3, 4}\n"
     ]
    },
    {
     "data": {
      "text/plain": [
       "False"
      ]
     },
     "execution_count": 19,
     "metadata": {},
     "output_type": "execute_result"
    }
   ],
   "source": [
    "def checkunique(data):\n",
    "    Check=set(data)\n",
    "    print(Check)\n",
    "    if len(Check)==len(data):\n",
    "        return True\n",
    "    return False\n",
    "checkunique([1,2,3,4,4])    "
   ]
  },
  {
   "cell_type": "markdown",
   "metadata": {},
   "source": [
    "Que C1.16"
   ]
  },
  {
   "cell_type": "code",
   "execution_count": 20,
   "metadata": {},
   "outputs": [
    {
     "name": "stdout",
     "output_type": "stream",
     "text": [
      "139972458991944\n",
      "94387901094464\n",
      "139972458991944\n",
      "94387901094464\n",
      "[2, 4, 6, 8, 10, 12, 14]\n"
     ]
    }
   ],
   "source": [
    "def scale(data,factor):\n",
    "    for j in range(len(data)):\n",
    "        data[j]=data[j]*factor\n",
    "var=[1,2,3,4,5,6,7]\n",
    "factor=2\n",
    "print (id(var))\n",
    "print (id(factor))\n",
    "scale(var,factor)\n",
    "print (id(var))\n",
    "print (id(factor))\n",
    "print(var)"
   ]
  },
  {
   "cell_type": "markdown",
   "metadata": {},
   "source": [
    "Que C1.17"
   ]
  },
  {
   "cell_type": "code",
   "execution_count": 21,
   "metadata": {},
   "outputs": [
    {
     "name": "stdout",
     "output_type": "stream",
     "text": [
      "139972458883784\n",
      "94387901094464\n",
      "2\n",
      "4\n",
      "6\n",
      "8\n",
      "10\n",
      "139972458883784\n",
      "94387901094464\n",
      "[1, 2, 3, 4, 5]\n"
     ]
    }
   ],
   "source": [
    "def scale(data,factor):\n",
    "    for val in data:\n",
    "        val*=factor\n",
    "        print(val)\n",
    "factor=2\n",
    "data=[1,2,3,4,5]\n",
    "print(id(data))\n",
    "print(id(factor))\n",
    "scale(data,factor)\n",
    "print(id(data))\n",
    "print(id(factor))\n",
    "print(data)"
   ]
  },
  {
   "cell_type": "markdown",
   "metadata": {},
   "source": [
    "Que C 1.18"
   ]
  },
  {
   "cell_type": "code",
   "execution_count": 22,
   "metadata": {},
   "outputs": [
    {
     "data": {
      "text/plain": [
       "[0, 2, 6, 12, 20, 30, 42, 56, 72, 90]"
      ]
     },
     "execution_count": 22,
     "metadata": {},
     "output_type": "execute_result"
    }
   ],
   "source": [
    "seq=[i*(i+1) for i in range(0,10)]\n",
    "seq"
   ]
  },
  {
   "cell_type": "markdown",
   "metadata": {},
   "source": [
    "Que C1.19"
   ]
  },
  {
   "cell_type": "code",
   "execution_count": 23,
   "metadata": {},
   "outputs": [
    {
     "data": {
      "text/plain": [
       "['a',\n",
       " 'b',\n",
       " 'c',\n",
       " 'd',\n",
       " 'e',\n",
       " 'f',\n",
       " 'g',\n",
       " 'h',\n",
       " 'i',\n",
       " 'j',\n",
       " 'k',\n",
       " 'l',\n",
       " 'm',\n",
       " 'n',\n",
       " 'o',\n",
       " 'p',\n",
       " 'q',\n",
       " 'r',\n",
       " 's',\n",
       " 't',\n",
       " 'u',\n",
       " 'v',\n",
       " 'w',\n",
       " 'x',\n",
       " 'y',\n",
       " 'z']"
      ]
     },
     "execution_count": 23,
     "metadata": {},
     "output_type": "execute_result"
    }
   ],
   "source": [
    "seq=[chr(i) for i in range(65+32,65+32+26)]\n",
    "seq"
   ]
  },
  {
   "cell_type": "markdown",
   "metadata": {},
   "source": [
    "Que C 1.20"
   ]
  },
  {
   "cell_type": "code",
   "execution_count": 24,
   "metadata": {},
   "outputs": [
    {
     "data": {
      "text/plain": [
       "[3, 1, 5, 8, 2, 9, 7, 6, 4]"
      ]
     },
     "execution_count": 24,
     "metadata": {},
     "output_type": "execute_result"
    }
   ],
   "source": [
    "data=[1,2,3,4,5,6,7,8,9]\n",
    "random.shuffle(data)\n",
    "data"
   ]
  },
  {
   "cell_type": "code",
   "execution_count": 25,
   "metadata": {},
   "outputs": [],
   "source": [
    "def shuffle(data):\n",
    "    m=len(data)\n",
    "    rev=[]\n",
    "    x=0\n",
    "    indexes=[]\n",
    "    for i in range(m):\n",
    "        while x in indexes:\n",
    "            x=random.randint(0,m-1)\n",
    "        indexes.append(x)\n",
    "        print(x)\n",
    "        rev.append(data[x])\n",
    "    print(rev)"
   ]
  },
  {
   "cell_type": "code",
   "execution_count": 26,
   "metadata": {},
   "outputs": [
    {
     "name": "stdout",
     "output_type": "stream",
     "text": [
      "0\n",
      "5\n",
      "8\n",
      "4\n",
      "3\n",
      "2\n",
      "6\n",
      "1\n",
      "7\n",
      "[3, 9, 4, 2, 8, 5, 7, 1, 6]\n"
     ]
    }
   ],
   "source": [
    "shuffle(data)"
   ]
  },
  {
   "cell_type": "markdown",
   "metadata": {},
   "source": [
    "Que C 1.21"
   ]
  },
  {
   "cell_type": "code",
   "execution_count": 27,
   "metadata": {},
   "outputs": [
    {
     "name": "stdout",
     "output_type": "stream",
     "text": [
      "Enter the linesaass\n",
      "Enter the linesddd\n",
      "The list of the lines you typed in reverse order\n",
      "['aass', 'ddd']\n"
     ]
    }
   ],
   "source": [
    "lis=[]\n",
    "X=1\n",
    "while X:\n",
    "    try:\n",
    "        lis.append(input('Enter the lines'))\n",
    "    except (EOFError,KeyboardInterrupt):\n",
    "        X=0\n",
    "        print('The list of the lines you typed in reverse order')\n",
    "print(lis)"
   ]
  },
  {
   "cell_type": "markdown",
   "metadata": {},
   "source": [
    "Que C1.22"
   ]
  },
  {
   "cell_type": "code",
   "execution_count": 28,
   "metadata": {},
   "outputs": [
    {
     "data": {
      "text/plain": [
       "[1, 4, 9, 16, 25]"
      ]
     },
     "execution_count": 28,
     "metadata": {},
     "output_type": "execute_result"
    }
   ],
   "source": [
    "a=[1,2,3,4,5]\n",
    "b=[1,2,3,4,5]\n",
    "def dot(a,b):\n",
    "    c=[]\n",
    "    for i,j in zip(a,b):\n",
    "        c.append(i*j)\n",
    "    return c\n",
    "dot(a,b)"
   ]
  },
  {
   "cell_type": "markdown",
   "metadata": {},
   "source": [
    "Que C1.23"
   ]
  },
  {
   "cell_type": "code",
   "execution_count": 29,
   "metadata": {},
   "outputs": [
    {
     "name": "stdout",
     "output_type": "stream",
     "text": [
      "Don't try buffer overflow attacks in python\n"
     ]
    }
   ],
   "source": [
    "try:\n",
    "    a=[12,3,4,2,5,67]\n",
    "    a[10]=1\n",
    "except IndexError:\n",
    "    print(\"Don't try buffer overflow attacks in python\")\n",
    "    "
   ]
  },
  {
   "cell_type": "markdown",
   "metadata": {},
   "source": [
    "Que C1.24"
   ]
  },
  {
   "cell_type": "code",
   "execution_count": 30,
   "metadata": {},
   "outputs": [
    {
     "name": "stdout",
     "output_type": "stream",
     "text": [
      "Enter a String: ass\n",
      "1\n"
     ]
    }
   ],
   "source": [
    "vowels=['a','i','e','o','u','A','E','I','O','U']\n",
    "string=input(\"Enter a String: \")\n",
    "count=0\n",
    "for i in string:\n",
    "    if i in vowels:\n",
    "        count+=1\n",
    "print(count)\n",
    "import re"
   ]
  },
  {
   "cell_type": "markdown",
   "metadata": {},
   "source": [
    "Que C1.25"
   ]
  },
  {
   "cell_type": "code",
   "execution_count": 31,
   "metadata": {},
   "outputs": [
    {
     "name": "stdout",
     "output_type": "stream",
     "text": [
      "Enter a string with punctuations: kjk\n",
      "kjk\n"
     ]
    }
   ],
   "source": [
    "s=input('Enter a string with punctuations: ')\n",
    "import re\n",
    "def remove(s):\n",
    "    s_new=re.sub('[^\\w\\s]','',s)\n",
    "    return s_new\n",
    "print (remove(s))"
   ]
  },
  {
   "cell_type": "markdown",
   "metadata": {},
   "source": [
    "Que C1.26"
   ]
  },
  {
   "cell_type": "code",
   "execution_count": 32,
   "metadata": {},
   "outputs": [
    {
     "name": "stdout",
     "output_type": "stream",
     "text": [
      "Enter numbers with spaces: jn hh\n"
     ]
    },
    {
     "ename": "ValueError",
     "evalue": "not enough values to unpack (expected 3, got 2)",
     "output_type": "error",
     "traceback": [
      "\u001b[0;31m---------------------------------------------------------------------------\u001b[0m",
      "\u001b[0;31mValueError\u001b[0m                                Traceback (most recent call last)",
      "\u001b[0;32m<ipython-input-32-33566097549f>\u001b[0m in \u001b[0;36m<module>\u001b[0;34m()\u001b[0m\n\u001b[1;32m      7\u001b[0m         \u001b[0;32mreturn\u001b[0m \u001b[0;32mTrue\u001b[0m\u001b[0;34m\u001b[0m\u001b[0m\n\u001b[1;32m      8\u001b[0m     \u001b[0;32mreturn\u001b[0m \u001b[0;32mFalse\u001b[0m\u001b[0;34m\u001b[0m\u001b[0m\n\u001b[0;32m----> 9\u001b[0;31m \u001b[0ma\u001b[0m\u001b[0;34m,\u001b[0m\u001b[0mb\u001b[0m\u001b[0;34m,\u001b[0m\u001b[0mc\u001b[0m\u001b[0;34m=\u001b[0m\u001b[0minput\u001b[0m\u001b[0;34m(\u001b[0m\u001b[0;34m'Enter numbers with spaces: '\u001b[0m\u001b[0;34m)\u001b[0m\u001b[0;34m.\u001b[0m\u001b[0msplit\u001b[0m\u001b[0;34m(\u001b[0m\u001b[0;34m)\u001b[0m\u001b[0;34m\u001b[0m\u001b[0m\n\u001b[0m\u001b[1;32m     10\u001b[0m '''print(id(a))\n\u001b[1;32m     11\u001b[0m print(id(int(a)))'''\n",
      "\u001b[0;31mValueError\u001b[0m: not enough values to unpack (expected 3, got 2)"
     ]
    }
   ],
   "source": [
    "def check(a,b,c):\n",
    "    if (c==a+b):\n",
    "        return True\n",
    "    if (a==b-c):\n",
    "        return True\n",
    "    if (a*b==c):\n",
    "        return True\n",
    "    return False\n",
    "a,b,c=input('Enter numbers with spaces: ').split()\n",
    "'''print(id(a))\n",
    "print(id(int(a)))'''\n",
    "check(int(a),int(b),int(c))"
   ]
  },
  {
   "cell_type": "markdown",
   "metadata": {},
   "source": [
    "Que C1.27"
   ]
  },
  {
   "cell_type": "code",
   "execution_count": 33,
   "metadata": {},
   "outputs": [
    {
     "name": "stdout",
     "output_type": "stream",
     "text": [
      "[1, 2, 4, 5, 10, 20]\n",
      "[1, 2, 4, 5, 10, 20]\n"
     ]
    }
   ],
   "source": [
    "def factors(n):\n",
    "    result=[]\n",
    "    for i in range(1,n+1):\n",
    "        if n%i==0:\n",
    "            result.append(i)\n",
    "    return result\n",
    "print(factors(20))\n",
    "def factors_gen(n):\n",
    "    for i in range(1,n+1):\n",
    "        if n%i==0:\n",
    "            yield i\n",
    "a=factors_gen(20)\n",
    "print(list(a))\n"
   ]
  },
  {
   "cell_type": "code",
   "execution_count": 34,
   "metadata": {},
   "outputs": [],
   "source": [
    "from math import sqrt,ceil\n",
    "from itertools import combinations\n",
    "import itertools"
   ]
  },
  {
   "cell_type": "code",
   "execution_count": 35,
   "metadata": {},
   "outputs": [
    {
     "ename": "IndentationError",
     "evalue": "unexpected indent (<ipython-input-35-e102683485db>, line 10)",
     "output_type": "error",
     "traceback": [
      "\u001b[0;36m  File \u001b[0;32m\"<ipython-input-35-e102683485db>\"\u001b[0;36m, line \u001b[0;32m10\u001b[0m\n\u001b[0;31m    yield i\u001b[0m\n\u001b[0m    ^\u001b[0m\n\u001b[0;31mIndentationError\u001b[0m\u001b[0;31m:\u001b[0m unexpected indent\n"
     ]
    }
   ],
   "source": [
    "def factors_gen(n):\n",
    "    i=1\n",
    "    factor=[]\n",
    "    while i*i<n:\n",
    "        if n%i==0:\n",
    "            yield i\n",
    "            factor.append(n//i)\n",
    "        i=i+1\n",
    "    if i*i==n:3\n",
    "        yield i\n",
    "    while factor:\n",
    "        yield factor.pop()\n",
    "b=list(factors_gen(20))\n",
    "print(b)"
   ]
  },
  {
   "cell_type": "markdown",
   "metadata": {},
   "source": [
    "Que C 1.28"
   ]
  },
  {
   "cell_type": "code",
   "execution_count": 36,
   "metadata": {},
   "outputs": [
    {
     "data": {
      "text/plain": [
       "13.0"
      ]
     },
     "execution_count": 36,
     "metadata": {},
     "output_type": "execute_result"
    }
   ],
   "source": [
    "def norm(v,p):\n",
    "    temp=0\n",
    "    for i in v:\n",
    "        temp+=i**p\n",
    "    temp=temp**(1/p)\n",
    "    return temp\n",
    "norm([4,3,12],2)"
   ]
  },
  {
   "cell_type": "markdown",
   "metadata": {},
   "source": [
    "Que P1.29"
   ]
  },
  {
   "cell_type": "code",
   "execution_count": 38,
   "metadata": {},
   "outputs": [
    {
     "ename": "RecursionError",
     "evalue": "maximum recursion depth exceeded in comparison",
     "output_type": "error",
     "traceback": [
      "\u001b[0;31m---------------------------------------------------------------------------\u001b[0m",
      "\u001b[0;31mRecursionError\u001b[0m                            Traceback (most recent call last)",
      "\u001b[0;32m<ipython-input-38-0d0628209390>\u001b[0m in \u001b[0;36m<module>\u001b[0;34m()\u001b[0m\n\u001b[1;32m     15\u001b[0m     \u001b[0mprint\u001b[0m\u001b[0;34m(\u001b[0m\u001b[0md\u001b[0m\u001b[0;34m)\u001b[0m\u001b[0;34m\u001b[0m\u001b[0m\n\u001b[1;32m     16\u001b[0m \u001b[0;34m\u001b[0m\u001b[0m\n\u001b[0;32m---> 17\u001b[0;31m \u001b[0mposs\u001b[0m\u001b[0;34m(\u001b[0m\u001b[0;34m)\u001b[0m\u001b[0;34m\u001b[0m\u001b[0m\n\u001b[0m",
      "\u001b[0;32m<ipython-input-38-0d0628209390>\u001b[0m in \u001b[0;36mposs\u001b[0;34m()\u001b[0m\n\u001b[1;32m     12\u001b[0m     \u001b[0;31m#d=set(itertools.permutations(c,6))\u001b[0m\u001b[0;34m\u001b[0m\u001b[0;34m\u001b[0m\u001b[0m\n\u001b[1;32m     13\u001b[0m     \u001b[0ma\u001b[0m\u001b[0;34m=\u001b[0m\u001b[0;34m[\u001b[0m\u001b[0;34m]\u001b[0m\u001b[0;34m\u001b[0m\u001b[0m\n\u001b[0;32m---> 14\u001b[0;31m     \u001b[0md\u001b[0m\u001b[0;34m=\u001b[0m\u001b[0mcom\u001b[0m\u001b[0;34m(\u001b[0m\u001b[0mc\u001b[0m\u001b[0;34m,\u001b[0m\u001b[0ma\u001b[0m\u001b[0;34m)\u001b[0m\u001b[0;34m\u001b[0m\u001b[0m\n\u001b[0m\u001b[1;32m     15\u001b[0m     \u001b[0mprint\u001b[0m\u001b[0;34m(\u001b[0m\u001b[0md\u001b[0m\u001b[0;34m)\u001b[0m\u001b[0;34m\u001b[0m\u001b[0m\n\u001b[1;32m     16\u001b[0m \u001b[0;34m\u001b[0m\u001b[0m\n",
      "\u001b[0;32m<ipython-input-38-0d0628209390>\u001b[0m in \u001b[0;36mcom\u001b[0;34m(c, a)\u001b[0m\n\u001b[1;32m      3\u001b[0m         \u001b[0;32mreturn\u001b[0m \u001b[0ma\u001b[0m\u001b[0;34m\u001b[0m\u001b[0m\n\u001b[1;32m      4\u001b[0m     \u001b[0;32melse\u001b[0m\u001b[0;34m:\u001b[0m\u001b[0;34m\u001b[0m\u001b[0m\n\u001b[0;32m----> 5\u001b[0;31m         \u001b[0;32mif\u001b[0m \u001b[0mcom\u001b[0m\u001b[0;34m(\u001b[0m\u001b[0mc\u001b[0m\u001b[0;34m,\u001b[0m\u001b[0ma\u001b[0m\u001b[0;34m)\u001b[0m\u001b[0;34m:\u001b[0m\u001b[0;34m\u001b[0m\u001b[0m\n\u001b[0m\u001b[1;32m      6\u001b[0m             \u001b[0;32mreturn\u001b[0m \u001b[0;32mTrue\u001b[0m\u001b[0;34m\u001b[0m\u001b[0m\n\u001b[1;32m      7\u001b[0m         \u001b[0ma\u001b[0m\u001b[0;34m.\u001b[0m\u001b[0mappend\u001b[0m\u001b[0;34m(\u001b[0m\u001b[0mc\u001b[0m\u001b[0;34m.\u001b[0m\u001b[0mpop\u001b[0m\u001b[0;34m(\u001b[0m\u001b[0;34m)\u001b[0m\u001b[0;34m)\u001b[0m\u001b[0;34m\u001b[0m\u001b[0m\n",
      "... last 1 frames repeated, from the frame below ...\n",
      "\u001b[0;32m<ipython-input-38-0d0628209390>\u001b[0m in \u001b[0;36mcom\u001b[0;34m(c, a)\u001b[0m\n\u001b[1;32m      3\u001b[0m         \u001b[0;32mreturn\u001b[0m \u001b[0ma\u001b[0m\u001b[0;34m\u001b[0m\u001b[0m\n\u001b[1;32m      4\u001b[0m     \u001b[0;32melse\u001b[0m\u001b[0;34m:\u001b[0m\u001b[0;34m\u001b[0m\u001b[0m\n\u001b[0;32m----> 5\u001b[0;31m         \u001b[0;32mif\u001b[0m \u001b[0mcom\u001b[0m\u001b[0;34m(\u001b[0m\u001b[0mc\u001b[0m\u001b[0;34m,\u001b[0m\u001b[0ma\u001b[0m\u001b[0;34m)\u001b[0m\u001b[0;34m:\u001b[0m\u001b[0;34m\u001b[0m\u001b[0m\n\u001b[0m\u001b[1;32m      6\u001b[0m             \u001b[0;32mreturn\u001b[0m \u001b[0;32mTrue\u001b[0m\u001b[0;34m\u001b[0m\u001b[0m\n\u001b[1;32m      7\u001b[0m         \u001b[0ma\u001b[0m\u001b[0;34m.\u001b[0m\u001b[0mappend\u001b[0m\u001b[0;34m(\u001b[0m\u001b[0mc\u001b[0m\u001b[0;34m.\u001b[0m\u001b[0mpop\u001b[0m\u001b[0;34m(\u001b[0m\u001b[0;34m)\u001b[0m\u001b[0;34m)\u001b[0m\u001b[0;34m\u001b[0m\u001b[0m\n",
      "\u001b[0;31mRecursionError\u001b[0m: maximum recursion depth exceeded in comparison"
     ]
    }
   ],
   "source": [
    "def com(c,a):\n",
    "    if c==[]:\n",
    "        return a\n",
    "    else:\n",
    "        if com(c,a):\n",
    "            return True\n",
    "        a.append(c.pop())\n",
    "        if com(c,a):\n",
    "            return True\n",
    "def poss():\n",
    "    c=['c','a','t','d','o','g']\n",
    "    #d=set(itertools.permutations(c,6))\n",
    "    a=[]\n",
    "    d=com(c,a)\n",
    "    print(d)\n",
    "        \n",
    "poss()"
   ]
  },
  {
   "cell_type": "code",
   "execution_count": 83,
   "metadata": {},
   "outputs": [],
   "source": [
    "def stringpermutation(s):\n",
    "    base=len(s)\n",
    "    for n in range(base**base):\n",
    "        yield \"\".join(s[n // base**(base-d-1) % base] for d in range(base))"
   ]
  },
  {
   "cell_type": "markdown",
   "metadata": {},
   "source": [
    "for p in stringpermutation(\"catdog\"):\n",
    "    print(p)"
   ]
  },
  {
   "cell_type": "markdown",
   "metadata": {},
   "source": [
    "Que P 1.30"
   ]
  },
  {
   "cell_type": "code",
   "execution_count": 96,
   "metadata": {},
   "outputs": [
    {
     "name": "stdout",
     "output_type": "stream",
     "text": [
      "Enter a number greater than 2: 3\n",
      "1\n"
     ]
    }
   ],
   "source": [
    "n=input('Enter a number greater than 2: ')\n",
    "n=int(n)\n",
    "if n<2:\n",
    "    print('Not less than two')\n",
    "else:\n",
    "    tmp=n\n",
    "    c=0\n",
    "    while (tmp>2):\n",
    "        tmp=tmp/2\n",
    "        c+=1\n",
    "    print(c)"
   ]
  },
  {
   "cell_type": "markdown",
   "metadata": {},
   "source": [
    "Que P1.32"
   ]
  },
  {
   "cell_type": "code",
   "execution_count": 102,
   "metadata": {},
   "outputs": [
    {
     "name": "stdout",
     "output_type": "stream",
     "text": [
      "Enter the numbers seperated by space : 10 20\n",
      "Enter the operation: +,-,/,* : *\n",
      "200\n"
     ]
    }
   ],
   "source": [
    "(x,y)=(map(int,input('Enter the numbers seperated by space : ').split(' ')))\n",
    "op=input('Enter the operation: +,-,/,* : ')\n",
    "if op=='+':\n",
    "    print(x+y)\n",
    "elif op=='-':\n",
    "    print(x-y)\n",
    "elif op=='/':\n",
    "    print(x/y)\n",
    "elif op=='*':\n",
    "    print(x*y)\n",
    "else:\n",
    "    print('Enter a valid operation')"
   ]
  },
  {
   "cell_type": "markdown",
   "metadata": {},
   "source": [
    "Que P1.34\n",
    "\n"
   ]
  },
  {
   "cell_type": "code",
   "execution_count": 177,
   "metadata": {},
   "outputs": [
    {
     "name": "stdout",
     "output_type": "stream",
     "text": [
      "I will never ypam my friends again\n",
      "I will never spat my friends again\n",
      "I will never sham my friends again\n",
      "Iuwill never spam my friends again\n",
      "I wiel never spam my friends again\n",
      "I will never spam my friends pgain\n",
      "I will never spam my friefds again\n",
      "z will never spam my friends again\n"
     ]
    }
   ],
   "source": [
    "s='I will never spam my friends again'\n",
    "#for i in range(100):\n",
    "#   print(s)\n",
    "punish=[s for i in range(100)]\n",
    "typo=set()\n",
    "for i in range(100):\n",
    "    typo.add(random.choice(range(0,100)))\n",
    "typo=list(typo)[1:9]\n",
    "m=len(s)\n",
    "for i in typo:\n",
    "    c=random.choice(range(m))\n",
    "    punish[i]=punish[i][0:c]+random.choice(string.ascii_lowercase)+punish[i][c+1:]\n",
    "    print(punish[i])"
   ]
  },
  {
   "cell_type": "markdown",
   "metadata": {},
   "source": [
    "Que P1.35"
   ]
  },
  {
   "cell_type": "code",
   "execution_count": 190,
   "metadata": {},
   "outputs": [],
   "source": [
    "from collections import Counter"
   ]
  },
  {
   "cell_type": "code",
   "execution_count": 267,
   "metadata": {},
   "outputs": [
    {
     "name": "stdout",
     "output_type": "stream",
     "text": [
      "Enter Number of the People again: 23\n"
     ]
    },
    {
     "data": {
      "text/plain": [
       "50.81"
      ]
     },
     "execution_count": 267,
     "metadata": {},
     "output_type": "execute_result"
    }
   ],
   "source": [
    "n=input('Enter Number of the People again: ')\n",
    "n=int(n)\n",
    "p=[]\n",
    "for i in range(10000):\n",
    "    c=dict()\n",
    "    f=0\n",
    "    b=[]\n",
    "    for j in range(n):\n",
    "        b.append(random.choice(range(366)))\n",
    "    c=dict(Counter(b))\n",
    "    for k in c.values():\n",
    "        if k>1:\n",
    "            f=1\n",
    "    p.append(f)\n",
    "\n",
    "(sum(p)/len(p))*100"
   ]
  },
  {
   "cell_type": "markdown",
   "metadata": {},
   "source": [
    "Que P1.36\n",
    "Solution 1 easy\n"
   ]
  },
  {
   "cell_type": "code",
   "execution_count": 276,
   "metadata": {},
   "outputs": [
    {
     "name": "stdout",
     "output_type": "stream",
     "text": [
      "In deference to widely published solutions concluding that 23 is the minimum number of people necessary to have a P(A) that is greater than 50%, the following calculation of P(A) will use 23 people as an example. If one numbers the 23 people from 1 to 23, the event that all 23 people have different birthdays is the same as the event that person 2 does not have the same birthday as person 1, and that person 3 does not have the same birthday as either person 1 or person 2, and so on, and finally that person 23 does not have the same birthday as any of persons 1 through 22. Let these events respectively be called \"Event 2\", \"Event 3\", and so on. One may also add an \"Event 1\", corresponding to the event of person 1 having a birthday, which occurs with probability 1. This conjunction of events may be computed using conditional probability: the probability of Event 2 is 364/365, as person 2 may have any birthday other than the birthday of person 1. Similarly, the probability of Event 3 given that Event 2 \n",
      "{'In': 1, 'deference': 1, 'to': 4, 'widely': 1, 'published': 1, 'solutions': 1, 'concluding': 1, 'that': 7, '23': 5, 'is': 4, 'the': 13, 'minimum': 1, 'number': 1, 'of': 8, 'people': 4, 'necessary': 1, 'have': 6, 'a': 2, 'P(A)': 2, 'greater': 1, 'than': 2, '50%,': 1, 'following': 1, 'calculation': 1, 'will': 1, 'use': 1, 'as': 6, 'an': 2, 'example.': 1, 'If': 1, 'one': 1, 'numbers': 1, 'from': 1, '1': 4, '23,': 1, 'event': 3, 'all': 1, 'different': 1, 'birthdays': 1, 'same': 4, 'person': 9, '2': 4, 'does': 3, 'not': 3, 'birthday': 5, '1,': 1, 'and': 4, '3': 2, 'either': 1, 'or': 1, '2,': 1, 'so': 2, 'on,': 1, 'finally': 1, 'any': 2, 'persons': 1, 'through': 1, '22.': 1, 'Let': 1, 'these': 1, 'events': 2, 'respectively': 1, 'be': 2, 'called': 1, '\"Event': 3, '2\",': 1, '3\",': 1, 'on.': 1, 'One': 1, 'may': 3, 'also': 1, 'add': 1, '1\",': 1, 'corresponding': 1, 'having': 1, 'birthday,': 1, 'which': 1, 'occurs': 1, 'with': 1, 'probability': 3, '1.': 2, 'This': 1, 'conjunction': 1, 'computed': 1, 'using': 1, 'conditional': 1, 'probability:': 1, 'Event': 3, '364/365,': 1, 'other': 1, 'Similarly,': 1, 'given': 1, '': 1}\n"
     ]
    }
   ],
   "source": [
    "n=list(input().split(' '))\n",
    "c=dict(Counter(n))\n",
    "print (c)"
   ]
  },
  {
   "cell_type": "markdown",
   "metadata": {},
   "source": [
    "Que P1.36\n",
    "Solution 2"
   ]
  },
  {
   "cell_type": "code",
   "execution_count": 279,
   "metadata": {},
   "outputs": [
    {
     "name": "stdout",
     "output_type": "stream",
     "text": [
      "In deference to widely published solutions concluding that 23 is the minimum number of people necessary to have a P(A) that is greater than 50%, the following calculation of P(A) will use 23 people as an example. If one numbers the 23 people from 1 to 23, the event that all 23 people have different birthdays is the same as the event that person 2 does not \n",
      "{'In': 1, 'deference': 1, 'to': 3, 'widely': 1, 'published': 1, 'solutions': 1, 'concluding': 1, 'that': 4, '23': 4, 'is': 3, 'the': 6, 'minimum': 1, 'number': 1, 'of': 2, 'people': 4, 'necessary': 1, 'have': 2, 'a': 1, 'P(A)': 2, 'greater': 1, 'than': 1, '50%,': 1, 'following': 1, 'calculation': 1, 'will': 1, 'use': 1, 'as': 2, 'an': 1, 'example.': 1, 'If': 1, 'one': 1, 'numbers': 1, 'from': 1, '1': 1, '23,': 1, 'event': 2, 'all': 1, 'different': 1, 'birthdays': 1, 'same': 1, 'person': 1, '2': 1, 'does': 1, 'not': 1, '': 1}\n"
     ]
    }
   ],
   "source": [
    "n=list(input().split(' '))\n",
    "count=dict()\n",
    "for i in n:\n",
    "    c=0\n",
    "    for j in n:\n",
    "        if i==j:\n",
    "            c+=1\n",
    "    count[i]=c\n",
    "print (count)"
   ]
  }
 ],
 "metadata": {
  "kernelspec": {
   "display_name": "Python 3",
   "language": "python",
   "name": "python3"
  },
  "language_info": {
   "codemirror_mode": {
    "name": "ipython",
    "version": 3
   },
   "file_extension": ".py",
   "mimetype": "text/x-python",
   "name": "python",
   "nbconvert_exporter": "python",
   "pygments_lexer": "ipython3",
   "version": "3.6.5"
  }
 },
 "nbformat": 4,
 "nbformat_minor": 2
}
